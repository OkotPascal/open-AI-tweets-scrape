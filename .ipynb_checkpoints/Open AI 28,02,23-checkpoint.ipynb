{
 "cells": [
  {
   "cell_type": "markdown",
   "id": "55ba9dc0",
   "metadata": {},
   "source": [
    "### Pulling Tweets from #OpenAI"
   ]
  },
  {
   "cell_type": "code",
   "execution_count": 1,
   "id": "b1d5f823",
   "metadata": {},
   "outputs": [],
   "source": [
    "import pandas as pd\n",
    "import snscrape.modules.twitter as sntwitter"
   ]
  },
  {
   "cell_type": "code",
   "execution_count": 2,
   "id": "3462926b",
   "metadata": {},
   "outputs": [
    {
     "data": {
      "text/plain": [
       "<snscrape.modules.twitter.TwitterSearchScraper at 0x1d5d4fa8b80>"
      ]
     },
     "execution_count": 2,
     "metadata": {},
     "output_type": "execute_result"
    }
   ],
   "source": [
    "scrapper = sntwitter.TwitterSearchScraper(\"#OpenAI\")\n",
    "scrapper"
   ]
  },
  {
   "cell_type": "code",
   "execution_count": 6,
   "id": "26f8b81c",
   "metadata": {},
   "outputs": [
    {
     "data": {
      "text/plain": [
       "snscrape.modules.twitter.Tweet"
      ]
     },
     "execution_count": 6,
     "metadata": {},
     "output_type": "execute_result"
    }
   ],
   "source": [
    "for tweet in scrapper.get_items():\n",
    "    break\n",
    "    \n",
    "type(tweet)"
   ]
  },
  {
   "cell_type": "code",
   "execution_count": 7,
   "id": "b37adaf6",
   "metadata": {},
   "outputs": [
    {
     "data": {
      "text/plain": [
       "Tweet(url='https://twitter.com/TheDeepDive_ca/status/1630575428694949891', date=datetime.datetime(2023, 2, 28, 14, 27, 31, tzinfo=datetime.timezone.utc), rawContent='Elon Musk To Rival ChatGPT, The AI Chatbot He Co-Founded\\n\\n#ElonMusk #OpenAi #Ai #ChatGPT #tech https://t.co/S5ziH5hQUR', renderedContent='Elon Musk To Rival ChatGPT, The AI Chatbot He Co-Founded\\n\\n#ElonMusk #OpenAi #Ai #ChatGPT #tech thedeepdive.ca/elon-musk-to-r…', id=1630575428694949891, user=User(username='TheDeepDive_ca', id=924846537775095808, displayname='The Deep Dive', rawDescription='Diving deep for investors on the Canadian markets, focused on #cannabis #tech #preciousmetals #mining + more.\\n\\nNot a recommendation to buy or sell securities.', renderedDescription='Diving deep for investors on the Canadian markets, focused on #cannabis #tech #preciousmetals #mining + more.\\n\\nNot a recommendation to buy or sell securities.', descriptionLinks=None, verified=False, created=datetime.datetime(2017, 10, 30, 3, 52, 52, tzinfo=datetime.timezone.utc), followersCount=10223, friendsCount=638, statusesCount=28107, favouritesCount=145781, listedCount=150, mediaCount=3032, location='Sedar, probably', protected=False, link=TextLink(text='thedeepdive.ca', url='http://www.thedeepdive.ca/', tcourl='https://t.co/zpF74tjVGs', indices=(0, 23)), profileImageUrl='https://pbs.twimg.com/profile_images/938983526107512832/pEyYCzwK_normal.jpg', profileBannerUrl='https://pbs.twimg.com/profile_banners/924846537775095808/1520822578', label=None), replyCount=0, retweetCount=0, likeCount=0, quoteCount=0, conversationId=1630575428694949891, lang='en', source='<a href=\"http://publicize.wp.com/\" rel=\"nofollow\">Jetpack.com</a>', sourceUrl='http://publicize.wp.com/', sourceLabel='Jetpack.com', links=[TextLink(text='thedeepdive.ca/elon-musk-to-r…', url='https://thedeepdive.ca/elon-musk-to-rival-chatgpt-the-ai-chatbot-he-co-founded/', tcourl='https://t.co/S5ziH5hQUR', indices=(95, 118))], media=None, retweetedTweet=None, quotedTweet=None, inReplyToTweetId=None, inReplyToUser=None, mentionedUsers=None, coordinates=None, place=None, hashtags=['ElonMusk', 'OpenAi', 'Ai', 'ChatGPT', 'tech'], cashtags=None, card=SummaryCard(title='Elon Musk To Rival ChatGPT, The AI Chatbot He Co-Founded | the deep dive', url='https://thedeepdive.ca/elon-musk-to-rival-chatgpt-the-ai-chatbot-he-co-founded/', description='In a bizarre retelling of Dr. Frankenstein and his monster, Elon Musk has reportedly approached AI researchers in recent weeks', thumbnailUrl='https://pbs.twimg.com/card_img/1630575431576440833/V4C5erqX?format=jpg&name=orig', siteUser=User(username='TheDeepDive_ca', id=924846537775095808, displayname='The Deep Dive', rawDescription='Diving deep for investors on the Canadian markets, focused on #cannabis #tech #preciousmetals #mining + more.\\n\\nNot a recommendation to buy or sell securities.', renderedDescription='Diving deep for investors on the Canadian markets, focused on #cannabis #tech #preciousmetals #mining + more.\\n\\nNot a recommendation to buy or sell securities.', descriptionLinks=None, verified=False, created=datetime.datetime(2017, 10, 30, 3, 52, 52, tzinfo=datetime.timezone.utc), followersCount=10223, friendsCount=638, statusesCount=28107, favouritesCount=145781, listedCount=150, mediaCount=3032, location='Sedar, probably', protected=False, link=TextLink(text='thedeepdive.ca', url='http://www.thedeepdive.ca/', tcourl='https://t.co/zpF74tjVGs', indices=(0, 23)), profileImageUrl='https://pbs.twimg.com/profile_images/938983526107512832/pEyYCzwK_normal.jpg', profileBannerUrl='https://pbs.twimg.com/profile_banners/924846537775095808/1520822578', label=None), creatorUser=User(username='TheDeepDive_ca', id=924846537775095808, displayname='The Deep Dive', rawDescription='Diving deep for investors on the Canadian markets, focused on #cannabis #tech #preciousmetals #mining + more.\\n\\nNot a recommendation to buy or sell securities.', renderedDescription='Diving deep for investors on the Canadian markets, focused on #cannabis #tech #preciousmetals #mining + more.\\n\\nNot a recommendation to buy or sell securities.', descriptionLinks=None, verified=False, created=datetime.datetime(2017, 10, 30, 3, 52, 52, tzinfo=datetime.timezone.utc), followersCount=10223, friendsCount=638, statusesCount=28107, favouritesCount=145781, listedCount=150, mediaCount=3032, location='Sedar, probably', protected=False, link=TextLink(text='thedeepdive.ca', url='http://www.thedeepdive.ca/', tcourl='https://t.co/zpF74tjVGs', indices=(0, 23)), profileImageUrl='https://pbs.twimg.com/profile_images/938983526107512832/pEyYCzwK_normal.jpg', profileBannerUrl='https://pbs.twimg.com/profile_banners/924846537775095808/1520822578', label=None)), viewCount=4, vibe=None)"
      ]
     },
     "execution_count": 7,
     "metadata": {},
     "output_type": "execute_result"
    }
   ],
   "source": [
    "tweet"
   ]
  },
  {
   "cell_type": "code",
   "execution_count": 16,
   "id": "3422ac65",
   "metadata": {},
   "outputs": [
    {
     "data": {
      "text/plain": [
       "['Elon Musk To Rival ChatGPT, The AI Chatbot He Co-Founded\\n\\n#ElonMusk #OpenAi #Ai #ChatGPT #tech https://t.co/S5ziH5hQUR',\n",
       " 'Elon Musk To Rival ChatGPT, The AI Chatbot He Co-Founded\\n\\n#ElonMusk #OpenAi #Ai #ChatGPT #tech thedeepdive.ca/elon-musk-to-r…',\n",
       " 'The Deep Dive',\n",
       " TextLink(text='thedeepdive.ca', url='http://www.thedeepdive.ca/', tcourl='https://t.co/zpF74tjVGs', indices=(0, 23)),\n",
       " None,\n",
       " 10223,\n",
       " False,\n",
       " datetime.datetime(2017, 10, 30, 3, 52, 52, tzinfo=datetime.timezone.utc),\n",
       " 'Sedar, probably']"
      ]
     },
     "execution_count": 16,
     "metadata": {},
     "output_type": "execute_result"
    }
   ],
   "source": [
    "data = [tweet.rawContent, tweet.renderedContent, tweet.user.displayname, tweet.user.link, tweet.retweetedTweet, \n",
    "        tweet.user.followersCount, tweet.user.verified, tweet.user.created, tweet.user.location]  \n",
    "data"
   ]
  },
  {
   "cell_type": "code",
   "execution_count": null,
   "id": "1ad43a03",
   "metadata": {},
   "outputs": [],
   "source": []
  },
  {
   "cell_type": "markdown",
   "id": "018a4e77",
   "metadata": {},
   "source": [
    "### Adding a progress Bar"
   ]
  },
  {
   "cell_type": "code",
   "execution_count": 8,
   "id": "92d6200c",
   "metadata": {},
   "outputs": [],
   "source": [
    "from tqdm.notebook import tqdm"
   ]
  },
  {
   "cell_type": "code",
   "execution_count": null,
   "id": "632c8be8",
   "metadata": {},
   "outputs": [],
   "source": []
  }
 ],
 "metadata": {
  "kernelspec": {
   "display_name": "Python 3 (ipykernel)",
   "language": "python",
   "name": "python3"
  },
  "language_info": {
   "codemirror_mode": {
    "name": "ipython",
    "version": 3
   },
   "file_extension": ".py",
   "mimetype": "text/x-python",
   "name": "python",
   "nbconvert_exporter": "python",
   "pygments_lexer": "ipython3",
   "version": "3.9.13"
  }
 },
 "nbformat": 4,
 "nbformat_minor": 5
}
